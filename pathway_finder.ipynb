{
 "cells": [
  {
   "cell_type": "code",
   "execution_count": 708,
   "metadata": {
    "collapsed": false
   },
   "outputs": [],
   "source": [
    "import urllib.request\n",
    "import json\n",
    "import itertools\n",
    "from ast import literal_eval\n",
    "import csv\n",
    "import io\n",
    "#import time"
   ]
  },
  {
   "cell_type": "code",
   "execution_count": 709,
   "metadata": {
    "collapsed": true
   },
   "outputs": [],
   "source": [
    "#the stringdb API returns results as byte strings. This means it needs to be transformed into a dictionary\n",
    "#and then to a JSON object. \n",
    "def get_json(results):\n",
    "    my_string = results.decode('utf8').replace(\"]\", '')\n",
    "    my_string_1 = my_string.replace(\"[\", '')\n",
    "    data = literal_eval(my_string_1)\n",
    "    t = json.dumps(data)\n",
    "    s = json.loads(t)\n",
    "    return(s)\n",
    "\n",
    "#This function takes the dictionary with the gene ID as the key and the list of interacting genes as values\n",
    "#and creates a list of all pairwise comparisons.\n",
    "def get_combinations(interactions):\n",
    "    result_list = list(map(dict, itertools.combinations(interactions.items(), 2)))\n",
    "    return(result_list)\n",
    "\n",
    "def get_overlapping_assoc(a,b):\n",
    "    funcs = []\n",
    "    url = 'https://string-db.org/api/json/functional_annotation?identifiers=' + a + '%0d' + b\n",
    "    results = urllib.request.urlopen(url).read()    #get results in bytes\n",
    "    my_string = results.decode('utf8')\n",
    "    s = json.loads(my_string)\n",
    "    for func in s:\n",
    "        if func[\"ratio_in_set\"] == 1:\n",
    "            desc = func[\"description\"]\n",
    "            go = func[\"term\"]\n",
    "            cat = func[\"category\"]\n",
    "            tup = (desc,go,cat)\n",
    "            funcs.append(tup)\n",
    "    return(funcs)"
   ]
  },
  {
   "cell_type": "code",
   "execution_count": 710,
   "metadata": {
    "collapsed": false
   },
   "outputs": [
    {
     "name": "stdout",
     "output_type": "stream",
     "text": [
      "{'vdrb': '7955.ENSDARP00000125655', '7955.ENSDARP00000125655': 'vdrb', 'tbx2a': '7955.ENSDARP00000027905', '7955.ENSDARP00000027905': 'tbx2a', 'cryabb': '7955.ENSDARP00000124531', '7955.ENSDARP00000124531': 'cryabb'}\n"
     ]
    }
   ],
   "source": [
    "#This code looks up the stringdb identifier for the gene of interest\n",
    "genes = ['vdrb','tbx2a','cryabb']\n",
    "stringids = []\n",
    "species = '7955'\n",
    "string2gene = {}\n",
    "for gene in genes:\n",
    "    url = 'https://string-db.org/api/json/get_string_ids?identifiers=' + gene + '&species=' + species\n",
    "    results = urllib.request.urlopen(url).read()    #get results in bytes\n",
    "    n = get_json(results)\n",
    "    stringids.append(n['stringId'])\n",
    "    string2gene[gene] = n['stringId']\n",
    "    string2gene[n['stringId']] = gene\n",
    "    #time.sleep(1)\n",
    "print(stringids)"
   ]
  },
  {
   "cell_type": "code",
   "execution_count": 711,
   "metadata": {
    "collapsed": false
   },
   "outputs": [
    {
     "name": "stdout",
     "output_type": "stream",
     "text": [
      "7955.ENSDARP00000125655\n",
      "7955.ENSDARP00000027905\n",
      "7955.ENSDARP00000124531\n",
      "{'7955.ENSDARP00000125655': ['ube2i', 'ube2i2', 'vdr', 'CYP27B1', 'sumo2b', 'cyp27a1.4', 'pias4a', 'cyp27a1.2', 'med1', 'pias4b'], '7955.ENSDARP00000027905': ['ppm1db', 'dlx1a', 'nkx2.5', 'ube2i2', 'nkx2.3', 'bmp4', 'tfap2a', 'bmp7b', 'bmp2b', 'rasgef1ba'], '7955.ENSDARP00000124531': ['hsf1', 'btr25', 'tp53', 'LOC799840', 'LOC570613', 'cryaa', 'gba', 'mgea5', 'cdc5l', 'rasgef1ba']}\n"
     ]
    }
   ],
   "source": [
    "#look up the 10 strongest interactions for each gene from stringdb\n",
    "limit = '10'\n",
    "interactions = {}\n",
    "evidence = {}\n",
    "for stringid in stringids:\n",
    "    web = []\n",
    "    url = 'https://string-db.org/api/json/interaction_partners?identifiers=' + stringid + '&limit=' + limit\n",
    "    results = urllib.request.urlopen(url).read()    #get results in bytes\n",
    "    p = get_json(results)\n",
    "    for g in p:\n",
    "        web.append(g.get(\"preferredName_B\"))\n",
    "    interactions[stringid] = web\n",
    "    #time.sleep(1)\n",
    "print(interactions)"
   ]
  },
  {
   "cell_type": "code",
   "execution_count": 712,
   "metadata": {
    "collapsed": false
   },
   "outputs": [
    {
     "name": "stdout",
     "output_type": "stream",
     "text": [
      "[('7955.ENSDARP00000125655', '7955.ENSDARP00000027905', ['ube2i2']), ('7955.ENSDARP00000027905', '7955.ENSDARP00000124531', ['rasgef1ba'])]\n"
     ]
    }
   ],
   "source": [
    "#find the overlapping genes\n",
    "overlaps = []\n",
    "r = get_combinations(interactions)\n",
    "for q in r:\n",
    "    k = list(q.keys())\n",
    "    v = list(q.values())\n",
    "    m = list(set(v[0]).intersection(v[1]))\n",
    "    if bool(m) == True:\n",
    "        thistuple = (k[0],k[1],m)\n",
    "        overlaps.append(thistuple)\n",
    "print(overlaps)"
   ]
  },
  {
   "cell_type": "code",
   "execution_count": 713,
   "metadata": {
    "collapsed": false
   },
   "outputs": [
    {
     "name": "stdout",
     "output_type": "stream",
     "text": [
      "[{'preferredName_A': 'vdrb', 'fscore': 0, 'tscore': 0, 'score': 0.921, 'ascore': 0, 'ncbiTaxonId': '7955', 'pscore': 0, 'nscore': 0, 'dscore': 0.9, 'stringId_A': 'ENSDARP00000125655', 'escore': 0.249, 'preferredName_B': 'ube2i2', 'stringId_B': 'ENSDARP00000052745'}, {'preferredName_A': 'rasgef1ba', 'fscore': 0, 'tscore': 0.508, 'score': 0.519, 'ascore': 0.054, 'ncbiTaxonId': '7955', 'pscore': 0, 'nscore': 0, 'dscore': 0, 'stringId_A': 'ENSDARP00000116417', 'escore': 0.051, 'preferredName_B': 'tbx2a', 'stringId_B': 'ENSDARP00000027905'}]\n"
     ]
    }
   ],
   "source": [
    "#Find evidence supporting the overlaps\n",
    "evidence = []\n",
    "for a,b,c in overlaps:\n",
    "    for z in c:\n",
    "        url = 'https://string-db.org/api/json/network?identifiers=' + a + '%0d' + z\n",
    "        results = urllib.request.urlopen(url).read()    #get results in bytes\n",
    "        p = get_json(results)\n",
    "        evidence.append(p)\n",
    "print(evidence)"
   ]
  },
  {
   "cell_type": "code",
   "execution_count": 716,
   "metadata": {
    "collapsed": false
   },
   "outputs": [
    {
     "name": "stdout",
     "output_type": "stream",
     "text": [
      "[('vdrb', 'tbx2a', [('DNA-binding', 'KW-0238', 'Keyword'), ('Nucleus', 'KW-0539', 'Keyword'), ('Transcription', 'KW-0804', 'Keyword'), ('Transcription regulation', 'KW-0805', 'Keyword')]), ('vdrb', 'ube2i2', [('intracellular', 'GO:0005622', 'Component'), ('cell', 'GO:0005623', 'Component'), ('nucleus', 'GO:0005634', 'Component'), ('cytoplasm', 'GO:0005737', 'Component'), ('organelle', 'GO:0043226', 'Component'), ('membrane-bounded organelle', 'GO:0043227', 'Component'), ('intracellular organelle', 'GO:0043229', 'Component'), ('intracellular membrane-bounded organelle', 'GO:0043231', 'Component'), ('intracellular part', 'GO:0044424', 'Component'), ('cell part', 'GO:0044464', 'Component'), ('binding', 'GO:0005488', 'Function'), ('ion binding', 'GO:0043167', 'Function'), ('organic cyclic compound binding', 'GO:0097159', 'Function'), ('heterocyclic compound binding', 'GO:1901363', 'Function'), ('Nucleus', 'KW-0539', 'Keyword'), ('heart looping', 'GO:0001947', 'Process'), ('morphogenesis of an epithelium', 'GO:0002009', 'Process'), ('heart morphogenesis', 'GO:0003007', 'Process'), ('embryonic heart tube morphogenesis', 'GO:0003143', 'Process'), ('nitrogen compound metabolic process', 'GO:0006807', 'Process'), ('multicellular organism development', 'GO:0007275', 'Process'), ('determination of left/right symmetry', 'GO:0007368', 'Process'), ('pattern specification process', 'GO:0007389', 'Process'), ('heart development', 'GO:0007507', 'Process'), ('metabolic process', 'GO:0008152', 'Process'), ('anatomical structure morphogenesis', 'GO:0009653', 'Process'), ('embryo development', 'GO:0009790', 'Process'), ('specification of symmetry', 'GO:0009799', 'Process'), ('determination of bilateral symmetry', 'GO:0009855', 'Process'), ('animal organ morphogenesis', 'GO:0009887', 'Process'), ('tissue development', 'GO:0009888', 'Process'), ('cellular process', 'GO:0009987', 'Process'), ('multicellular organismal process', 'GO:0032501', 'Process'), ('developmental process', 'GO:0032502', 'Process'), ('embryonic heart tube development', 'GO:0035050', 'Process'), ('tube morphogenesis', 'GO:0035239', 'Process'), ('tube development', 'GO:0035295', 'Process'), ('macromolecule metabolic process', 'GO:0043170', 'Process'), ('cellular metabolic process', 'GO:0044237', 'Process'), ('primary metabolic process', 'GO:0044238', 'Process'), ('cellular macromolecule metabolic process', 'GO:0044260', 'Process'), ('animal organ development', 'GO:0048513', 'Process'), ('embryonic organ morphogenesis', 'GO:0048562', 'Process'), ('embryonic organ development', 'GO:0048568', 'Process'), ('embryonic morphogenesis', 'GO:0048598', 'Process'), ('tissue morphogenesis', 'GO:0048729', 'Process'), ('system development', 'GO:0048731', 'Process'), ('anatomical structure development', 'GO:0048856', 'Process'), ('epithelium development', 'GO:0060429', 'Process'), ('epithelial tube morphogenesis', 'GO:0060562', 'Process'), ('determination of heart left/right asymmetry', 'GO:0061371', 'Process'), ('organic substance metabolic process', 'GO:0071704', 'Process'), ('circulatory system development', 'GO:0072359', 'Process'), ('Metabolism', 'DRE-1430728', 'RCTM'), ('Vitamin D (calciferol) metabolism', 'DRE-196791', 'RCTM'), ('Generic Transcription Pathway', 'DRE-212436', 'RCTM'), ('SUMOylation', 'DRE-2990846', 'RCTM'), ('SUMO E3 ligases SUMOylate target proteins', 'DRE-3108232', 'RCTM'), ('Metabolism of proteins', 'DRE-392499', 'RCTM'), ('SUMOylation of intracellular receptors', 'DRE-4090294', 'RCTM'), ('Metabolism of lipids', 'DRE-556833', 'RCTM'), ('Post-translational protein modification', 'DRE-597592', 'RCTM'), ('RNA Polymerase II Transcription', 'DRE-73857', 'RCTM'), ('Gene expression (Transcription)', 'DRE-74160', 'RCTM'), ('Metabolism of steroids', 'DRE-8957322', 'RCTM')]), ('tbx2a', 'ube2i2', [('Nucleus', 'KW-0539', 'Keyword')]), ('tbx2a', 'cryabb', []), ('tbx2a', 'rasgef1ba', []), ('cryabb', 'rasgef1ba', [])]\n"
     ]
    }
   ],
   "source": [
    "#Find shared annotations in GO and UniProt\n",
    "annotations = []\n",
    "for a,b,c in overlaps:\n",
    "    h = get_overlapping_assoc(a,b)\n",
    "    t = (string2gene[a],string2gene[b],h)\n",
    "    annotations.append(t)\n",
    "    for z in c:\n",
    "        f = get_overlapping_assoc(a,z)\n",
    "        t = (string2gene[a],z,f)\n",
    "        annotations.append(t)\n",
    "        g = get_overlapping_assoc(b,z)\n",
    "        t = (string2gene[b],z,g)\n",
    "        annotations.append(t)\n",
    "print(annotations)"
   ]
  }
 ],
 "metadata": {
  "kernelspec": {
   "display_name": "Python 3",
   "language": "python",
   "name": "python3"
  },
  "language_info": {
   "codemirror_mode": {
    "name": "ipython",
    "version": 3
   },
   "file_extension": ".py",
   "mimetype": "text/x-python",
   "name": "python",
   "nbconvert_exporter": "python",
   "pygments_lexer": "ipython3",
   "version": "3.6.8"
  }
 },
 "nbformat": 4,
 "nbformat_minor": 2
}
